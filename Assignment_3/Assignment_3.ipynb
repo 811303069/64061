{
  "nbformat": 4,
  "nbformat_minor": 0,
  "metadata": {
    "colab": {
      "provenance": []
    },
    "kernelspec": {
      "name": "python3",
      "display_name": "Python 3"
    },
    "language_info": {
      "name": "python"
    }
  },
  "cells": [
    {
      "cell_type": "markdown",
      "source": [
        "A temperature-forecasting example"
      ],
      "metadata": {
        "id": "K79LeJc2NNmy"
      }
    },
    {
      "cell_type": "code",
      "source": [
        "!pip install tensorflow==2.12"
      ],
      "metadata": {
        "colab": {
          "base_uri": "https://localhost:8080/"
        },
        "id": "ajKCi19VNOaG",
        "outputId": "91d62c1e-7c7b-48c4-eb60-50ec0ebc702c"
      },
      "execution_count": null,
      "outputs": [
        {
          "output_type": "stream",
          "name": "stdout",
          "text": [
            "Requirement already satisfied: tensorflow==2.12 in /usr/local/lib/python3.10/dist-packages (2.12.0)\n",
            "Requirement already satisfied: absl-py>=1.0.0 in /usr/local/lib/python3.10/dist-packages (from tensorflow==2.12) (1.4.0)\n",
            "Requirement already satisfied: astunparse>=1.6.0 in /usr/local/lib/python3.10/dist-packages (from tensorflow==2.12) (1.6.3)\n",
            "Requirement already satisfied: flatbuffers>=2.0 in /usr/local/lib/python3.10/dist-packages (from tensorflow==2.12) (24.3.25)\n",
            "Requirement already satisfied: gast<=0.4.0,>=0.2.1 in /usr/local/lib/python3.10/dist-packages (from tensorflow==2.12) (0.4.0)\n",
            "Requirement already satisfied: google-pasta>=0.1.1 in /usr/local/lib/python3.10/dist-packages (from tensorflow==2.12) (0.2.0)\n",
            "Requirement already satisfied: grpcio<2.0,>=1.24.3 in /usr/local/lib/python3.10/dist-packages (from tensorflow==2.12) (1.62.1)\n",
            "Requirement already satisfied: h5py>=2.9.0 in /usr/local/lib/python3.10/dist-packages (from tensorflow==2.12) (3.9.0)\n",
            "Requirement already satisfied: jax>=0.3.15 in /usr/local/lib/python3.10/dist-packages (from tensorflow==2.12) (0.4.23)\n",
            "Requirement already satisfied: keras<2.13,>=2.12.0 in /usr/local/lib/python3.10/dist-packages (from tensorflow==2.12) (2.12.0)\n",
            "Requirement already satisfied: libclang>=13.0.0 in /usr/local/lib/python3.10/dist-packages (from tensorflow==2.12) (18.1.1)\n",
            "Requirement already satisfied: numpy<1.24,>=1.22 in /usr/local/lib/python3.10/dist-packages (from tensorflow==2.12) (1.23.5)\n",
            "Requirement already satisfied: opt-einsum>=2.3.2 in /usr/local/lib/python3.10/dist-packages (from tensorflow==2.12) (3.3.0)\n",
            "Requirement already satisfied: packaging in /usr/local/lib/python3.10/dist-packages (from tensorflow==2.12) (24.0)\n",
            "Requirement already satisfied: protobuf!=4.21.0,!=4.21.1,!=4.21.2,!=4.21.3,!=4.21.4,!=4.21.5,<5.0.0dev,>=3.20.3 in /usr/local/lib/python3.10/dist-packages (from tensorflow==2.12) (3.20.3)\n",
            "Requirement already satisfied: setuptools in /usr/local/lib/python3.10/dist-packages (from tensorflow==2.12) (67.7.2)\n",
            "Requirement already satisfied: six>=1.12.0 in /usr/local/lib/python3.10/dist-packages (from tensorflow==2.12) (1.16.0)\n",
            "Requirement already satisfied: tensorboard<2.13,>=2.12 in /usr/local/lib/python3.10/dist-packages (from tensorflow==2.12) (2.12.3)\n",
            "Requirement already satisfied: tensorflow-estimator<2.13,>=2.12.0 in /usr/local/lib/python3.10/dist-packages (from tensorflow==2.12) (2.12.0)\n",
            "Requirement already satisfied: termcolor>=1.1.0 in /usr/local/lib/python3.10/dist-packages (from tensorflow==2.12) (2.4.0)\n",
            "Requirement already satisfied: typing-extensions>=3.6.6 in /usr/local/lib/python3.10/dist-packages (from tensorflow==2.12) (4.10.0)\n",
            "Requirement already satisfied: wrapt<1.15,>=1.11.0 in /usr/local/lib/python3.10/dist-packages (from tensorflow==2.12) (1.14.1)\n",
            "Requirement already satisfied: tensorflow-io-gcs-filesystem>=0.23.1 in /usr/local/lib/python3.10/dist-packages (from tensorflow==2.12) (0.36.0)\n",
            "Requirement already satisfied: wheel<1.0,>=0.23.0 in /usr/local/lib/python3.10/dist-packages (from astunparse>=1.6.0->tensorflow==2.12) (0.43.0)\n",
            "Requirement already satisfied: ml-dtypes>=0.2.0 in /usr/local/lib/python3.10/dist-packages (from jax>=0.3.15->tensorflow==2.12) (0.2.0)\n",
            "Requirement already satisfied: scipy>=1.9 in /usr/local/lib/python3.10/dist-packages (from jax>=0.3.15->tensorflow==2.12) (1.11.4)\n",
            "Requirement already satisfied: google-auth<3,>=1.6.3 in /usr/local/lib/python3.10/dist-packages (from tensorboard<2.13,>=2.12->tensorflow==2.12) (2.27.0)\n",
            "Requirement already satisfied: google-auth-oauthlib<1.1,>=0.5 in /usr/local/lib/python3.10/dist-packages (from tensorboard<2.13,>=2.12->tensorflow==2.12) (1.0.0)\n",
            "Requirement already satisfied: markdown>=2.6.8 in /usr/local/lib/python3.10/dist-packages (from tensorboard<2.13,>=2.12->tensorflow==2.12) (3.6)\n",
            "Requirement already satisfied: requests<3,>=2.21.0 in /usr/local/lib/python3.10/dist-packages (from tensorboard<2.13,>=2.12->tensorflow==2.12) (2.31.0)\n",
            "Requirement already satisfied: tensorboard-data-server<0.8.0,>=0.7.0 in /usr/local/lib/python3.10/dist-packages (from tensorboard<2.13,>=2.12->tensorflow==2.12) (0.7.2)\n",
            "Requirement already satisfied: werkzeug>=1.0.1 in /usr/local/lib/python3.10/dist-packages (from tensorboard<2.13,>=2.12->tensorflow==2.12) (3.0.2)\n",
            "Requirement already satisfied: cachetools<6.0,>=2.0.0 in /usr/local/lib/python3.10/dist-packages (from google-auth<3,>=1.6.3->tensorboard<2.13,>=2.12->tensorflow==2.12) (5.3.3)\n",
            "Requirement already satisfied: pyasn1-modules>=0.2.1 in /usr/local/lib/python3.10/dist-packages (from google-auth<3,>=1.6.3->tensorboard<2.13,>=2.12->tensorflow==2.12) (0.4.0)\n",
            "Requirement already satisfied: rsa<5,>=3.1.4 in /usr/local/lib/python3.10/dist-packages (from google-auth<3,>=1.6.3->tensorboard<2.13,>=2.12->tensorflow==2.12) (4.9)\n",
            "Requirement already satisfied: requests-oauthlib>=0.7.0 in /usr/local/lib/python3.10/dist-packages (from google-auth-oauthlib<1.1,>=0.5->tensorboard<2.13,>=2.12->tensorflow==2.12) (1.3.1)\n",
            "Requirement already satisfied: charset-normalizer<4,>=2 in /usr/local/lib/python3.10/dist-packages (from requests<3,>=2.21.0->tensorboard<2.13,>=2.12->tensorflow==2.12) (3.3.2)\n",
            "Requirement already satisfied: idna<4,>=2.5 in /usr/local/lib/python3.10/dist-packages (from requests<3,>=2.21.0->tensorboard<2.13,>=2.12->tensorflow==2.12) (3.6)\n",
            "Requirement already satisfied: urllib3<3,>=1.21.1 in /usr/local/lib/python3.10/dist-packages (from requests<3,>=2.21.0->tensorboard<2.13,>=2.12->tensorflow==2.12) (2.0.7)\n",
            "Requirement already satisfied: certifi>=2017.4.17 in /usr/local/lib/python3.10/dist-packages (from requests<3,>=2.21.0->tensorboard<2.13,>=2.12->tensorflow==2.12) (2024.2.2)\n",
            "Requirement already satisfied: MarkupSafe>=2.1.1 in /usr/local/lib/python3.10/dist-packages (from werkzeug>=1.0.1->tensorboard<2.13,>=2.12->tensorflow==2.12) (2.1.5)\n",
            "Requirement already satisfied: pyasn1<0.7.0,>=0.4.6 in /usr/local/lib/python3.10/dist-packages (from pyasn1-modules>=0.2.1->google-auth<3,>=1.6.3->tensorboard<2.13,>=2.12->tensorflow==2.12) (0.6.0)\n",
            "Requirement already satisfied: oauthlib>=3.0.0 in /usr/local/lib/python3.10/dist-packages (from requests-oauthlib>=0.7.0->google-auth-oauthlib<1.1,>=0.5->tensorboard<2.13,>=2.12->tensorflow==2.12) (3.2.2)\n"
          ]
        }
      ]
    },
    {
      "cell_type": "code",
      "source": [
        "!wget https://s3.amazonaws.com/keras-datasets/jena_climate_2009_2016.csv.zip\n",
        "!unzip jena_climate_2009_2016.csv.zip"
      ],
      "metadata": {
        "colab": {
          "base_uri": "https://localhost:8080/"
        },
        "id": "rUSmQQ1yNRlD",
        "outputId": "367923ba-fbc6-4cb2-b876-5756cbc2a5a1"
      },
      "execution_count": null,
      "outputs": [
        {
          "output_type": "stream",
          "name": "stdout",
          "text": [
            "--2024-04-06 16:21:17--  https://s3.amazonaws.com/keras-datasets/jena_climate_2009_2016.csv.zip\n",
            "Resolving s3.amazonaws.com (s3.amazonaws.com)... 16.182.109.160, 52.217.232.16, 52.216.138.85, ...\n",
            "Connecting to s3.amazonaws.com (s3.amazonaws.com)|16.182.109.160|:443... connected.\n",
            "HTTP request sent, awaiting response... 200 OK\n",
            "Length: 13565642 (13M) [application/zip]\n",
            "Saving to: ‘jena_climate_2009_2016.csv.zip’\n",
            "\n",
            "jena_climate_2009_2 100%[===================>]  12.94M  17.6MB/s    in 0.7s    \n",
            "\n",
            "2024-04-06 16:21:18 (17.6 MB/s) - ‘jena_climate_2009_2016.csv.zip’ saved [13565642/13565642]\n",
            "\n",
            "Archive:  jena_climate_2009_2016.csv.zip\n",
            "  inflating: jena_climate_2009_2016.csv  \n",
            "  inflating: __MACOSX/._jena_climate_2009_2016.csv  \n"
          ]
        }
      ]
    },
    {
      "cell_type": "markdown",
      "source": [
        "Inspecting the data of the Jena weather dataset - 420451 rows and 15 Features\n"
      ],
      "metadata": {
        "id": "KThKXRW0Nw7G"
      }
    },
    {
      "cell_type": "code",
      "source": [
        "import os\n",
        "fname = os.path.join(\"jena_climate_2009_2016.csv\")\n",
        "\n",
        "with open(fname) as f:\n",
        "    data = f.read()\n",
        "\n",
        "lines = data.split(\"\\n\")\n",
        "header = lines[0].split(\",\")\n",
        "lines = lines[1:]\n",
        "print(header)\n",
        "print(len(lines))\n",
        "\n",
        "num_variables = len(header)\n",
        "print(\"Number of variables:\", num_variables)\n",
        "num_rows = len(lines)\n",
        "print(\"Number of rows:\", num_rows"
      ],
      "metadata": {
        "colab": {
          "base_uri": "https://localhost:8080/"
        },
        "id": "xe4APsUSN1vW",
        "outputId": "4a4ceff4-fb19-421d-df6f-3acd6082d93e"
      },
      "execution_count": null,
      "outputs": [
        {
          "output_type": "stream",
          "name": "stdout",
          "text": [
            "['\"Date Time\"', '\"p (mbar)\"', '\"T (degC)\"', '\"Tpot (K)\"', '\"Tdew (degC)\"', '\"rh (%)\"', '\"VPmax (mbar)\"', '\"VPact (mbar)\"', '\"VPdef (mbar)\"', '\"sh (g/kg)\"', '\"H2OC (mmol/mol)\"', '\"rho (g/m**3)\"', '\"wv (m/s)\"', '\"max. wv (m/s)\"', '\"wd (deg)\"']\n",
            "420451\n",
            "Number of variables: 15\n",
            "Number of rows: 420451\n"
          ]
        }
      ]
    },
    {
      "cell_type": "markdown",
      "source": [
        "Parsing the data- converting the comma-separated values into floating-point numbers, and then storing specific values in the temperature and raw_data arrays for further processing or analysis."
      ],
      "metadata": {
        "id": "K0O0_WoJN7vM"
      }
    },
    {
      "cell_type": "code",
      "source": [
        "import numpy as np\n",
        "temperature = np.zeros((len(lines),))\n",
        "raw_data = np.zeros((len(lines), len(header) - 1))\n",
        "for i, line in enumerate(lines):\n",
        "    values = [float(x) for x in line.split(\",\")[1:]]\n",
        "    temperature[i] = values[1]\n",
        "    raw_data[i, :] = values[:]"
      ],
      "metadata": {
        "id": "s9xSTwCGN-rI"
      },
      "execution_count": null,
      "outputs": []
    },
    {
      "cell_type": "markdown",
      "source": [
        "Plotting the temperature timeseries\n",
        "\n"
      ],
      "metadata": {
        "id": "Jxiw8dWUSkA9"
      }
    },
    {
      "cell_type": "code",
      "source": [
        "from matplotlib import pyplot as plt\n",
        "plt.plot(range(len(temperature)), temperature)\n",
        "plt.xlabel('Data points')\n",
        "plt.ylabel('Temperature')"
      ],
      "metadata": {
        "colab": {
          "base_uri": "https://localhost:8080/",
          "height": 471
        },
        "id": "_EtKk2G4Skz7",
        "outputId": "400fb62f-f9dc-447c-c237-a8f2a5b59a5a"
      },
      "execution_count": null,
      "outputs": [
        {
          "output_type": "execute_result",
          "data": {
            "text/plain": [
              "Text(0, 0.5, 'Temperature')"
            ]
          },
          "metadata": {},
          "execution_count": 25
        },
        {
          "output_type": "display_data",
          "data": {
            "text/plain": [
              "<Figure size 640x480 with 1 Axes>"
            ],
            "image/png": "[encoded data removed]"
          },
          "metadata": {}
        }
      ]
    },
    {
      "cell_type": "markdown",
      "source": [
        "Plotting the first 10 days of the temperature timeseries- As given that one day data has 144 data points hence 10days will have 1440 data points"
      ],
      "metadata": {
        "id": "CDxbNiKbTNpb"
      }
    },
    {
      "cell_type": "code",
      "source": [
        "plt.plot(range(1440), temperature[:1440])\n",
        "plt.xlabel('Data points')\n",
        "plt.ylabel('Temperature')"
      ],
      "metadata": {
        "colab": {
          "base_uri": "https://localhost:8080/",
          "height": 467
        },
        "id": "mbXPR1WATPE-",
        "outputId": "1db6ef5a-f92c-490f-cdba-28d13f7e72dc"
      },
      "execution_count": null,
      "outputs": [
        {
          "output_type": "execute_result",
          "data": {
            "text/plain": [
              "Text(0, 0.5, 'Temperature')"
            ]
          },
          "metadata": {},
          "execution_count": 26
        },
        {
          "output_type": "display_data",
          "data": {
            "text/plain": [
              "<Figure size 640x480 with 1 Axes>"
            ],
            "image/png": "[encoded data removed]"
          },
          "metadata": {}
        }
      ]
    },
    {
      "cell_type": "markdown",
      "source": [
        "**Computing the number of samples we'll use for each data split- 50% for Train, 25%- validation**\n"
      ],
      "metadata": {
        "id": "ctKwFaLLTkr5"
      }
    },
    {
      "cell_type": "code",
      "source": [
        "num_train_samples = int(0.5 * len(raw_data))\n",
        "num_val_samples = int(0.25 * len(raw_data))\n",
        "num_test_samples = len(raw_data) - num_train_samples - num_val_samples\n",
        "print(\"num_train_samples:\", num_train_samples)\n",
        "print(\"num_val_samples:\", num_val_samples)\n",
        "print(\"num_test_samples:\", num_test_samples)"
      ],
      "metadata": {
        "colab": {
          "base_uri": "https://localhost:8080/"
        },
        "id": "7ZxlLCyhTlh5",
        "outputId": "1add61fc-b8cf-4d26-90e6-9b0a562986ed"
      },
      "execution_count": null,
      "outputs": [
        {
          "output_type": "stream",
          "name": "stdout",
          "text": [
            "num_train_samples: 210225\n",
            "num_val_samples: 105112\n",
            "num_test_samples: 105114\n"
          ]
        }
      ]
    },
    {
      "cell_type": "markdown",
      "source": [
        "## Preparing the data"
      ],
      "metadata": {
        "id": "a6Q5IwKMTyYE"
      }
    },
    {
      "cell_type": "markdown",
      "source": [
        "Normalizing the data- Since the data is already in a numerical format, vectorization is unnecessary. However, given that the data scales differ across variables, with temperature ranging from -20 to +30 and pressure measured in millibars, it is advisable to standardize all variables.\n",
        "\n"
      ],
      "metadata": {
        "id": "GnqNxTxFT1zn"
      }
    },
    {
      "cell_type": "markdown",
      "source": [
        "# Normalizing Data"
      ],
      "metadata": {
        "id": "CiFCnbHaqYot"
      }
    },
    {
      "cell_type": "code",
      "source": [
        "mean = raw_data[:num_train_samples].mean(axis=0)\n",
        "raw_data -= mean\n",
        "std = raw_data[:num_train_samples].std(axis=0)\n",
        "raw_data /= std"
      ],
      "metadata": {
        "id": "gYp1LaGRT4_M"
      },
      "execution_count": null,
      "outputs": []
    },
    {
      "cell_type": "code",
      "source": [
        "import numpy as np\n",
        "from tensorflow import keras\n",
        "int_sequence = np.arange(10)\n",
        "dummy_dataset = keras.utils.timeseries_dataset_from_array(\n",
        "    data=int_sequence[:-3],\n",
        "    targets=int_sequence[3:],\n",
        "    sequence_length=3,\n",
        "    batch_size=2,\n",
        ")\n",
        "\n",
        "for inputs, targets in dummy_dataset:\n",
        "    for i in range(inputs.shape[0]):\n",
        "        print([int(x) for x in inputs[i]], int(targets[i]))"
      ],
      "metadata": {
        "colab": {
          "base_uri": "https://localhost:8080/"
        },
        "id": "5x6ktBiOT_B9",
        "outputId": "e140c1b8-83bf-4ea2-dc5b-455f8ca1587d"
      },
      "execution_count": null,
      "outputs": [
        {
          "output_type": "stream",
          "name": "stdout",
          "text": [
            "[0, 1, 2] 3\n",
            "[1, 2, 3] 4\n",
            "[2, 3, 4] 5\n",
            "[3, 4, 5] 6\n",
            "[4, 5, 6] 7\n"
          ]
        }
      ]
    },
    {
      "cell_type": "markdown",
      "source": [
        "Instantiating datasets for training, validation, and testing - it is required because the samples in the dataset are highly redundant Hence, it would be inefficient to allocate memory for each sample explicitly. Instead, we will generate the samples dynamically.\n",
        "\n"
      ],
      "metadata": {
        "id": "dRjiNHxjUJw5"
      }
    },
    {
      "cell_type": "code",
      "source": [
        "sampling_rate = 6\n",
        "sequence_length = 120\n",
        "delay = sampling_rate * (sequence_length + 24 - 1)\n",
        "batch_size = 256\n",
        "\n",
        "train_dataset = keras.utils.timeseries_dataset_from_array(\n",
        "    raw_data[:-delay],\n",
        "    targets=temperature[delay:],\n",
        "    sampling_rate=sampling_rate,\n",
        "    sequence_length=sequence_length,\n",
        "    shuffle=True,\n",
        "    batch_size=batch_size,\n",
        "    start_index=0,\n",
        "    end_index=num_train_samples)\n",
        "\n",
        "val_dataset = keras.utils.timeseries_dataset_from_array(\n",
        "    raw_data[:-delay],\n",
        "    targets=temperature[delay:],\n",
        "    sampling_rate=sampling_rate,\n",
        "    sequence_length=sequence_length,\n",
        "    shuffle=True,\n",
        "    batch_size=batch_size,\n",
        "    start_index=num_train_samples,\n",
        "    end_index=num_train_samples + num_val_samples)\n",
        "\n",
        "test_dataset = keras.utils.timeseries_dataset_from_array(\n",
        "    raw_data[:-delay],\n",
        "    targets=temperature[delay:],\n",
        "    sampling_rate=sampling_rate,\n",
        "    sequence_length=sequence_length,\n",
        "    shuffle=True,\n",
        "    batch_size=batch_size,\n",
        "    start_index=num_train_samples + num_val_samples)"
      ],
      "metadata": {
        "id": "dsoMZmxRUFxb"
      },
      "execution_count": null,
      "outputs": []
    },
    {
      "cell_type": "markdown",
      "source": [
        "Inspecting the output of one of our datasets"
      ],
      "metadata": {
        "id": "NdT8LGYvUVNv"
      }
    },
    {
      "cell_type": "code",
      "source": [
        "for samples, targets in train_dataset:\n",
        "    print(\"samples shape:\", samples.shape)\n",
        "    print(\"targets shape:\", targets.shape)\n",
        "    break"
      ],
      "metadata": {
        "colab": {
          "base_uri": "https://localhost:8080/"
        },
        "id": "7Qb3itENURRg",
        "outputId": "b8e78f77-5515-45e5-cada-2fc5a760d45a"
      },
      "execution_count": null,
      "outputs": [
        {
          "output_type": "stream",
          "name": "stdout",
          "text": [
            "samples shape: (256, 120, 14)\n",
            "targets shape: (256,)\n"
          ]
        }
      ]
    },
    {
      "cell_type": "markdown",
      "source": [
        "A common-sense, non-machine-learning baseline"
      ],
      "metadata": {
        "id": "7SPHb4WyqkE-"
      }
    },
    {
      "cell_type": "markdown",
      "source": [
        "Computing the common-sense baseline MAE\n",
        "\n",
        "Computing the common-sense baseline MAE - This defined function \"evaluate_naive_method\" provides a baseline for evaluating the performance of a simple forecasting approach, where the last value in the input sequence is used as a prediction for the next value.\n",
        "\n",
        "\n"
      ],
      "metadata": {
        "id": "YT8YBgfhqtHr"
      }
    },
    {
      "cell_type": "code",
      "source": [
        "def evaluate_naive_method(dataset):\n",
        "    total_abs_err = 0.\n",
        "    samples_seen = 0\n",
        "    for samples, targets in dataset:\n",
        "        preds = samples[:, -1, 1] * std[1] + mean[1]\n",
        "        total_abs_err += np.sum(np.abs(preds - targets))\n",
        "        samples_seen += samples.shape[0]\n",
        "    return total_abs_err / samples_seen\n",
        "\n",
        "print(f\"Validation MAE: {evaluate_naive_method(val_dataset):.2f}\")\n",
        "print(f\"Test MAE: {evaluate_naive_method(test_dataset):.2f}\")"
      ],
      "metadata": {
        "colab": {
          "base_uri": "https://localhost:8080/"
        },
        "id": "U7902yC5qv1t",
        "outputId": "2fb400a4-2bb3-4749-c240-ffb76bdc445d"
      },
      "execution_count": null,
      "outputs": [
        {
          "output_type": "stream",
          "name": "stdout",
          "text": [
            "Validation MAE: 2.44\n",
            "Test MAE: 2.62\n"
          ]
        }
      ]
    },
    {
      "cell_type": "markdown",
      "source": [
        "Assuming that the temperature in the next 24 hours will be the same as the current temperature is a sensible baseline strategy. The test MAE is 2.62 degrees Celsius, while the validation MAE (Mean Absolute Error) is 2.44 degrees Celsius using this simple baseline. Put another way, an average divergence of roughly 2.5 degrees would arise from presuming that the future temperature stays constant with the current temperature."
      ],
      "metadata": {
        "id": "z0Kwygw9G0E6"
      }
    },
    {
      "cell_type": "markdown",
      "source": [
        "Let's try a basic machine-learning model\n",
        "Training and evaluating a densely connected model"
      ],
      "metadata": {
        "id": "vmcG9F99q1L6"
      }
    },
    {
      "cell_type": "code",
      "source": [
        "from tensorflow import keras\n",
        "from tensorflow.keras import layers\n",
        "\n",
        "inputs = keras.Input(shape=(sequence_length, raw_data.shape[-1]))\n",
        "x = layers.Flatten()(inputs)\n",
        "x = layers.Dense(16, activation=\"relu\")(x)\n",
        "outputs = layers.Dense(1)(x)\n",
        "model = keras.Model(inputs, outputs)\n",
        "\n",
        "callbacks = [\n",
        "    keras.callbacks.ModelCheckpoint(\"jena_dense.keras\",\n",
        "                                    save_best_only=True)\n",
        "]\n",
        "model.compile(optimizer=\"rmsprop\", loss=\"mse\", metrics=[\"mae\"])\n",
        "history = model.fit(train_dataset,\n",
        "                    epochs=10,\n",
        "                    validation_data=val_dataset,\n",
        "                    callbacks=callbacks)\n",
        "\n",
        "model = keras.models.load_model(\"jena_dense.keras\")\n",
        "print(f\"Test MAE: {model.evaluate(test_dataset)[1]:.2f}\")"
      ],
      "metadata": {
        "colab": {
          "base_uri": "https://localhost:8080/"
        },
        "id": "FiSlNwIbre5o",
        "outputId": "0d8f2c57-bb6b-4ad4-f92a-df07ba847c21"
      },
      "execution_count": null,
      "outputs": [
        {
          "output_type": "stream",
          "name": "stdout",
          "text": [
            "Epoch 1/10\n",
            "819/819 [==============================] - 66s 79ms/step - loss: 14.6573 - mae: 2.9586 - val_loss: 11.2184 - val_mae: 2.6483\n",
            "Epoch 2/10\n",
            "819/819 [==============================] - 81s 99ms/step - loss: 10.0076 - mae: 2.4912 - val_loss: 10.6137 - val_mae: 2.5788\n",
            "Epoch 3/10\n",
            "819/819 [==============================] - 61s 74ms/step - loss: 9.2531 - mae: 2.3982 - val_loss: 10.5362 - val_mae: 2.5717\n",
            "Epoch 4/10\n",
            "819/819 [==============================] - 84s 102ms/step - loss: 8.6866 - mae: 2.3248 - val_loss: 12.6397 - val_mae: 2.8164\n",
            "Epoch 5/10\n",
            "819/819 [==============================] - 67s 81ms/step - loss: 8.3103 - mae: 2.2718 - val_loss: 9.9642 - val_mae: 2.4947\n",
            "Epoch 6/10\n",
            "819/819 [==============================] - 68s 83ms/step - loss: 7.9827 - mae: 2.2254 - val_loss: 10.2072 - val_mae: 2.5236\n",
            "Epoch 7/10\n",
            "819/819 [==============================] - 61s 74ms/step - loss: 7.7464 - mae: 2.1922 - val_loss: 10.1785 - val_mae: 2.5282\n",
            "Epoch 8/10\n",
            "819/819 [==============================] - 54s 66ms/step - loss: 7.5650 - mae: 2.1645 - val_loss: 10.7507 - val_mae: 2.5868\n",
            "Epoch 9/10\n",
            "819/819 [==============================] - 62s 75ms/step - loss: 7.4020 - mae: 2.1434 - val_loss: 12.1802 - val_mae: 2.7753\n",
            "Epoch 10/10\n",
            "819/819 [==============================] - 53s 64ms/step - loss: 7.2319 - mae: 2.1174 - val_loss: 10.3676 - val_mae: 2.5603\n",
            "405/405 [==============================] - 18s 44ms/step - loss: 11.2006 - mae: 2.6372\n",
            "Test MAE: 2.64\n"
          ]
        }
      ]
    },
    {
      "cell_type": "markdown",
      "source": [
        "# Plotting results"
      ],
      "metadata": {
        "id": "1PL1kp64rkz2"
      }
    },
    {
      "cell_type": "code",
      "source": [
        "import matplotlib.pyplot as plt\n",
        "loss = history.history[\"mae\"]\n",
        "val_loss = history.history[\"val_mae\"]\n",
        "epochs = range(1, len(loss) + 1)\n",
        "plt.figure()\n",
        "plt.plot(epochs, loss, \"bo\", label=\"Training MAE\")\n",
        "plt.plot(epochs, val_loss, \"b\", label=\"Validation MAE\")\n",
        "plt.title(\"Training and validation MAE\")\n",
        "plt.legend()\n",
        "plt.show()"
      ],
      "metadata": {
        "colab": {
          "base_uri": "https://localhost:8080/",
          "height": 452
        },
        "id": "mc-zk_8yroCv",
        "outputId": "362ffe2b-9e2e-41c6-a328-e62819b5a535"
      },
      "execution_count": null,
      "outputs": [
        {
          "output_type": "display_data",
          "data": {
            "text/plain": [
              "<Figure size 640x480 with 1 Axes>"
            ],
            "image/png": "[encoded data removed]"
          },
          "metadata": {}
        }
      ]
    },
    {
      "cell_type": "markdown",
      "source": [
        "Convolutional data appear to perform worse than dense models or common sense. It might be as a result of\n",
        "\n",
        "For meteorological data, the translation invariance assumption is not very strong.\n",
        "\n",
        "\n",
        "The data's order is very important. When it comes to forecasting the temperature for the next day, recent historical data is noticeably more useful than data collected several days prior. Sadly, this crucial temporal order is beyond the reach of a 1D convolutional neural network."
      ],
      "metadata": {
        "id": "D1CXHZR3H5hA"
      }
    },
    {
      "cell_type": "markdown",
      "source": [
        "\n",
        "A Simple RNN\n",
        "\n",
        "1.An RNN layer that can process sequences of any length"
      ],
      "metadata": {
        "id": "d6P_NZFaIKC9"
      }
    },
    {
      "cell_type": "markdown",
      "source": [
        "# Let's try a 1D convolutional model"
      ],
      "metadata": {
        "id": "vTiNxsIFrvTy"
      }
    },
    {
      "cell_type": "code",
      "source": [
        "inputs = keras.Input(shape=(sequence_length, raw_data.shape[-1]))\n",
        "x = layers.Conv1D(8, 24, activation=\"relu\")(inputs)\n",
        "x = layers.MaxPooling1D(2)(x)\n",
        "x = layers.Conv1D(8, 12, activation=\"relu\")(x)\n",
        "x = layers.MaxPooling1D(2)(x)\n",
        "x = layers.Conv1D(8, 6, activation=\"relu\")(x)\n",
        "x = layers.GlobalAveragePooling1D()(x)\n",
        "outputs = layers.Dense(1)(x)\n",
        "model = keras.Model(inputs, outputs)\n",
        "\n",
        "callbacks = [\n",
        "    keras.callbacks.ModelCheckpoint(\"jena_conv.keras\",\n",
        "                                    save_best_only=True)\n",
        "]\n",
        "model.compile(optimizer=\"rmsprop\", loss=\"mse\", metrics=[\"mae\"])\n",
        "history = model.fit(train_dataset,\n",
        "                    epochs=10,\n",
        "                    validation_data=val_dataset,\n",
        "                    callbacks=callbacks)\n",
        "\n",
        "model = keras.models.load_model(\"jena_conv.keras\")\n",
        "print(f\"Test MAE: {model.evaluate(test_dataset)[1]:.2f}\")"
      ],
      "metadata": {
        "colab": {
          "base_uri": "https://localhost:8080/"
        },
        "id": "uDNFp2VIrxdt",
        "outputId": "667ae72b-bccf-4b57-f7c8-5dbb13556fcc"
      },
      "execution_count": null,
      "outputs": [
        {
          "output_type": "stream",
          "name": "stdout",
          "text": [
            "Epoch 1/10\n",
            "819/819 [==============================] - 92s 111ms/step - loss: 144.3689 - mae: 9.8216 - val_loss: 146.9579 - val_mae: 9.9957\n",
            "Epoch 2/10\n",
            "819/819 [==============================] - 89s 108ms/step - loss: 129.0934 - mae: 9.1337 - val_loss: 133.2790 - val_mae: 9.4596\n",
            "Epoch 3/10\n",
            "819/819 [==============================] - 92s 112ms/step - loss: 115.6181 - mae: 8.5343 - val_loss: 118.8072 - val_mae: 8.8352\n",
            "Epoch 4/10\n",
            "819/819 [==============================] - 92s 112ms/step - loss: 103.3302 - mae: 7.9725 - val_loss: 106.4130 - val_mae: 8.2813\n",
            "Epoch 5/10\n",
            "819/819 [==============================] - 91s 111ms/step - loss: 92.0249 - mae: 7.4322 - val_loss: 95.7937 - val_mae: 7.8144\n",
            "Epoch 6/10\n",
            "819/819 [==============================] - 91s 110ms/step - loss: 81.7365 - mae: 6.9273 - val_loss: 85.4338 - val_mae: 7.3366\n",
            "Epoch 7/10\n",
            "819/819 [==============================] - 93s 113ms/step - loss: 72.3495 - mae: 6.4441 - val_loss: 76.3991 - val_mae: 6.9170\n",
            "Epoch 8/10\n",
            "819/819 [==============================] - 92s 112ms/step - loss: 63.8455 - mae: 5.9886 - val_loss: 68.9617 - val_mae: 6.5547\n",
            "Epoch 9/10\n",
            "819/819 [==============================] - 112s 136ms/step - loss: 56.2489 - mae: 5.5679 - val_loss: 60.8962 - val_mae: 6.1319\n",
            "Epoch 10/10\n",
            "819/819 [==============================] - 92s 113ms/step - loss: 49.5357 - mae: 5.1877 - val_loss: 55.3530 - val_mae: 5.8371\n",
            "405/405 [==============================] - 22s 52ms/step - loss: 62.5522 - mae: 6.1510\n",
            "Test MAE: 6.15\n"
          ]
        }
      ]
    },
    {
      "cell_type": "markdown",
      "source": [],
      "metadata": {
        "id": "sM4cPAn6-dlU"
      }
    },
    {
      "cell_type": "markdown",
      "source": [
        "A first recurrent baseline\n",
        "\n",
        "A simple LSTM-based model"
      ],
      "metadata": {
        "id": "7RquJBmcr_SS"
      }
    },
    {
      "cell_type": "code",
      "source": [
        "inputs = keras.Input(shape=(sequence_length, raw_data.shape[-1]))\n",
        "x = layers.LSTM(16)(inputs)\n",
        "outputs = layers.Dense(1)(x)\n",
        "model = keras.Model(inputs, outputs)\n",
        "\n",
        "callbacks = [\n",
        "    keras.callbacks.ModelCheckpoint(\"jena_lstm.keras\",\n",
        "                                    save_best_only=True)\n",
        "]\n",
        "model.compile(optimizer=\"rmsprop\", loss=\"mse\", metrics=[\"mae\"])\n",
        "history = model.fit(train_dataset,\n",
        "                    epochs=10,\n",
        "                    validation_data=val_dataset,\n",
        "                    callbacks=callbacks)\n",
        "\n",
        "model = keras.models.load_model(\"jena_lstm.keras\")\n",
        "print(f\"Test MAE: {model.evaluate(test_dataset)[1]:.2f}\")"
      ],
      "metadata": {
        "colab": {
          "base_uri": "https://localhost:8080/"
        },
        "id": "KaugTBv8sAUO",
        "outputId": "4c41e774-9099-44b4-be35-da19adbff38e"
      },
      "execution_count": null,
      "outputs": [
        {
          "output_type": "stream",
          "name": "stdout",
          "text": [
            "Epoch 1/10\n",
            "819/819 [==============================] - 137s 163ms/step - loss: 39.4042 - mae: 4.5690 - val_loss: 12.1552 - val_mae: 2.6505\n",
            "Epoch 2/10\n",
            "819/819 [==============================] - 117s 142ms/step - loss: 10.8303 - mae: 2.5563 - val_loss: 9.4756 - val_mae: 2.3982\n",
            "Epoch 3/10\n",
            "819/819 [==============================] - 119s 145ms/step - loss: 9.6212 - mae: 2.4175 - val_loss: 9.1814 - val_mae: 2.3586\n",
            "Epoch 4/10\n",
            "819/819 [==============================] - 132s 161ms/step - loss: 9.0793 - mae: 2.3456 - val_loss: 9.3274 - val_mae: 2.3680\n",
            "Epoch 5/10\n",
            "819/819 [==============================] - 120s 146ms/step - loss: 8.6840 - mae: 2.2965 - val_loss: 9.6812 - val_mae: 2.4151\n",
            "Epoch 6/10\n",
            "819/819 [==============================] - 117s 142ms/step - loss: 8.4041 - mae: 2.2601 - val_loss: 9.5877 - val_mae: 2.4078\n",
            "Epoch 7/10\n",
            "819/819 [==============================] - 117s 143ms/step - loss: 8.1957 - mae: 2.2309 - val_loss: 9.4457 - val_mae: 2.3883\n",
            "Epoch 8/10\n",
            "819/819 [==============================] - 117s 142ms/step - loss: 7.9938 - mae: 2.2050 - val_loss: 9.4777 - val_mae: 2.3918\n",
            "Epoch 9/10\n",
            "819/819 [==============================] - 116s 141ms/step - loss: 7.8228 - mae: 2.1821 - val_loss: 9.3846 - val_mae: 2.3842\n",
            "Epoch 10/10\n",
            "819/819 [==============================] - 131s 159ms/step - loss: 7.6911 - mae: 2.1637 - val_loss: 9.4141 - val_mae: 2.3921\n",
            "405/405 [==============================] - 27s 65ms/step - loss: 10.4310 - mae: 2.5193\n",
            "Test MAE: 2.52\n"
          ]
        }
      ]
    },
    {
      "cell_type": "markdown",
      "source": [
        "# Understanding recurrent neural networks"
      ],
      "metadata": {
        "id": "ZN9XhL0asI9P"
      }
    },
    {
      "cell_type": "markdown",
      "source": [
        "NumPy implementation of a simple RNN"
      ],
      "metadata": {
        "id": "QkOj5B0YsKpp"
      }
    },
    {
      "cell_type": "code",
      "source": [
        "import numpy as np\n",
        "timesteps = 100\n",
        "input_features = 32\n",
        "output_features = 64\n",
        "inputs = np.random.random((timesteps, input_features))\n",
        "state_t = np.zeros((output_features,))\n",
        "W = np.random.random((output_features, input_features))\n",
        "U = np.random.random((output_features, output_features))\n",
        "b = np.random.random((output_features,))\n",
        "successive_outputs = []\n",
        "for input_t in inputs:\n",
        "    output_t = np.tanh(np.dot(W, input_t) + np.dot(U, state_t) + b)\n",
        "    successive_outputs.append(output_t)\n",
        "    state_t = output_t\n",
        "final_output_sequence = np.stacEpoch 1/10\n",
        "819/819 [==============================] - 137s 163ms/step - loss: 39.4042 - mae: 4.5690 - val_loss: 12.1552 - val_mae: 2.6505\n",
        "Epoch 2/10\n",
        "819/819 [==============================] - 117s 142ms/step - loss: 10.8303 - mae: 2.5563 - val_loss: 9.4756 - val_mae: 2.3982\n",
        "Epoch 3/10\n",
        "819/819 [==============================] - 119s 145ms/step - loss: 9.6212 - mae: 2.4175 - val_loss: 9.1814 - val_mae: 2.3586\n",
        "Epoch 4/10\n",
        "819/819 [==============================] - 132s 161ms/step - loss: 9.0793 - mae: 2.3456 - val_loss: 9.3274 - val_mae: 2.3680\n",
        "Epoch 5/10\n",
        "819/819 [==============================] - 120s 146ms/step - loss: 8.6840 - mae: 2.2965 - val_loss: 9.6812 - val_mae: 2.4151\n",
        "Epoch 6/10\n",
        "819/819 [==============================] - 117s 142ms/step - loss: 8.4041 - mae: 2.2601 - val_loss: 9.5877 - val_mae: 2.4078\n",
        "Epoch 7/10\n",
        "819/819 [==============================] - 117s 143ms/step - loss: 8.1957 - mae: 2.2309 - val_loss: 9.4457 - val_mae: 2.3883\n",
        "Epoch 8/10\n",
        "819/819 [==============================] - 117s 142ms/step - loss: 7.9938 - mae: 2.2050 - val_loss: 9.4777 - val_mae: 2.3918\n",
        "Epoch 9/10\n",
        "819/819 [==============================] - 116s 141ms/step - loss: 7.8228 - mae: 2.1821 - val_loss: 9.3846 - val_mae: 2.3842\n",
        "Epoch 10/10\n",
        "819/819 [==============================] - 131s 159ms/step - loss: 7.6911 - mae: 2.1637 - val_loss: 9.4141 - val_mae: 2.3921\n",
        "405/405 [==============================] - 27s 65ms/step - loss: 10.4310 - mae: 2.5193\n",
        "Test MAE: 2.52\n",
        "Understanding recurrent neural networks\n",
        "NumPy implementation of a simple RNN\n",
        "\n",
        "[ ]\n",
        "import numpy as np\n",
        "timesteps = 100\n",
        "input_features = 32\n",
        "output_features = 64\n",
        "inputs = np.random.random((timesteps, input_features))\n",
        "state_t = np.zeros((output_features,))\n",
        "W = np.random.random((output_features, input_features))\n",
        "U = np.random.random((output_features, output_features))\n",
        "b = np.random.random((output_features,))\n",
        "successive_outputs = []\n",
        "\n",
        "A recurrent layer in Keras\n",
        "\n",
        "An RNN layer that can process sequences of any length\n",
        "\n",
        "k(successive_outputs, axis=0)"
      ],
      "metadata": {
        "id": "dpheTRWXsNHB"
      },
      "execution_count": null,
      "outputs": []
    },
    {
      "cell_type": "markdown",
      "source": [
        "A recurrent layer in Keras\n",
        "\n",
        "An RNN layer that can process sequences of any length"
      ],
      "metadata": {
        "id": "dla0ZOUKsZeZ"
      }
    },
    {
      "cell_type": "code",
      "source": [
        "num_features = 14\n",
        "inputs = keras.Input(shape=(None, num_features))\n",
        "outputs = layers.SimpleRNN(16)(inputs)"
      ],
      "metadata": {
        "id": "1x3y7poNsa9u"
      },
      "execution_count": null,
      "outputs": []
    },
    {
      "cell_type": "markdown",
      "source": [
        "An RNN layer that returns only its last output step"
      ],
      "metadata": {
        "id": "ebApl697sfzS"
      }
    },
    {
      "cell_type": "code",
      "source": [
        "num_features = 14\n",
        "steps = 120\n",
        "inputs = keras.Input(shape=(steps, num_features))\n",
        "outputs = layers.SimpleRNN(16, return_sequences=False)(inputs)\n",
        "print(outputs.shape)"
      ],
      "metadata": {
        "colab": {
          "base_uri": "https://localhost:8080/"
        },
        "id": "DkO_F9yjsduE",
        "outputId": "780350d1-923c-4caf-d01a-63ba07fd8d67"
      },
      "execution_count": null,
      "outputs": [
        {
          "output_type": "stream",
          "name": "stdout",
          "text": [
            "(None, 16)\n"
          ]
        }
      ]
    },
    {
      "cell_type": "markdown",
      "source": [
        "An RNN layer that returns its full output sequence"
      ],
      "metadata": {
        "id": "ULkizFSBsjBQ"
      }
    },
    {
      "cell_type": "code",
      "source": [
        "num_features = 14\n",
        "steps = 120\n",
        "inputs = keras.Input(shape=(steps, num_features))\n",
        "outputs = layers.SimpleRNN(16, return_sequences=True)(inputs)\n",
        "print(outputs.shape)"
      ],
      "metadata": {
        "colab": {
          "base_uri": "https://localhost:8080/"
        },
        "id": "5eEO4WAGslIC",
        "outputId": "93ccfeab-0014-48b6-a065-df04b00ba69c"
      },
      "execution_count": null,
      "outputs": [
        {
          "output_type": "stream",
          "name": "stdout",
          "text": [
            "(None, 120, 16)\n"
          ]
        }
      ]
    },
    {
      "cell_type": "markdown",
      "source": [
        "Stacking RNN layers"
      ],
      "metadata": {
        "id": "btRb7_SYsn9U"
      }
    },
    {
      "cell_type": "code",
      "source": [
        "inputs = keras.Input(shape=(steps, num_features))\n",
        "x = layers.SimpleRNN(16, return_sequences=True)(inputs)\n",
        "x = layers.SimpleRNN(16, return_sequences=True)(x)\n",
        "outputs = layers.SimpleRNN(16)(x)"
      ],
      "metadata": {
        "id": "zGgOE0z2st_d"
      },
      "execution_count": null,
      "outputs": []
    },
    {
      "cell_type": "markdown",
      "source": [
        "# Advanced use of recurrent neural networks"
      ],
      "metadata": {
        "id": "jd6Onp_-szGw"
      }
    },
    {
      "cell_type": "markdown",
      "source": [
        "Using recurrent dropout to fight overfitting\n",
        "\n",
        "Training and evaluating a dropout-regularized LSTM"
      ],
      "metadata": {
        "id": "vJeFqbqrs0wt"
      }
    },
    {
      "cell_type": "code",
      "source": [
        "inputs = keras.Input(shape=(sequence_length, raw_data.shape[-1]))\n",
        "x = layers.LSTM(32, recurrent_dropout=0.25)(inputs)\n",
        "x = layers.Dropout(0.5)(x)\n",
        "outputs = layers.Dense(1)(x)\n",
        "model = keras.Model(inputs, outputs)\n",
        "\n",
        "callbacks = [\n",
        "    keras.callbacks.ModelCheckpoint(\"jena_lstm_dropout.keras\",\n",
        "                                    save_best_only=True)\n",
        "]\n",
        "model.compile(optimizer=\"rmsprop\", loss=\"mse\", metrics=[\"mae\"])\n",
        "history = model.fit(train_dataset,\n",
        "                    epochs=10,\n",
        "                    validation_data=val_dataset,\n",
        "                    callbacks=callbacks)"
      ],
      "metadata": {
        "colab": {
          "base_uri": "https://localhost:8080/"
        },
        "id": "2zhhog4Ws3RF",
        "outputId": "e68488f6-47c3-47d8-c200-27b49edf9ed8"
      },
      "execution_count": null,
      "outputs": [
        {
          "output_type": "stream",
          "name": "stdout",
          "text": [
            "Epoch 1/10\n",
            "819/819 [==============================] - 244s 294ms/step - loss: 29.0678 - mae: 3.9629 - val_loss: 9.9926 - val_mae: 2.4521\n",
            "Epoch 2/10\n",
            "819/819 [==============================] - 240s 292ms/step - loss: 14.9672 - mae: 2.9987 - val_loss: 9.2189 - val_mae: 2.3596\n",
            "Epoch 3/10\n",
            "819/819 [==============================] - 238s 290ms/step - loss: 13.9977 - mae: 2.9020 - val_loss: 8.9816 - val_mae: 2.3334\n",
            "Epoch 4/10\n",
            "819/819 [==============================] - 231s 282ms/step - loss: 13.3331 - mae: 2.8332 - val_loss: 9.0556 - val_mae: 2.3326\n",
            "Epoch 5/10\n",
            "819/819 [==============================] - 241s 294ms/step - loss: 12.9092 - mae: 2.7864 - val_loss: 8.7575 - val_mae: 2.2909\n",
            "Epoch 6/10\n",
            "819/819 [==============================] - 234s 284ms/step - loss: 12.4298 - mae: 2.7360 - val_loss: 9.0351 - val_mae: 2.3214\n",
            "Epoch 7/10\n",
            "819/819 [==============================] - 241s 294ms/step - loss: 12.1816 - mae: 2.7092 - val_loss: 8.8725 - val_mae: 2.3024\n",
            "Epoch 8/10\n",
            "819/819 [==============================] - 245s 299ms/step - loss: 11.8257 - mae: 2.6670 - val_loss: 9.1190 - val_mae: 2.3349\n",
            "Epoch 9/10\n",
            "819/819 [==============================] - 243s 297ms/step - loss: 11.5779 - mae: 2.6416 - val_loss: 9.4749 - val_mae: 2.3875\n",
            "Epoch 10/10\n",
            "819/819 [==============================] - 242s 295ms/step - loss: 11.3332 - mae: 2.6115 - val_loss: 9.1301 - val_mae: 2.3412\n"
          ]
        }
      ]
    },
    {
      "cell_type": "code",
      "source": [
        "inputs = keras.Input(shape=(sequence_length, num_features))\n",
        "x = layers.LSTM(32, recurrent_dropout=0.2, unroll=True)(inputs)"
      ],
      "metadata": {
        "id": "FE7LVuJGs9Gi"
      },
      "execution_count": null,
      "outputs": []
    },
    {
      "cell_type": "markdown",
      "source": [
        "# Stacking recurrent layers"
      ],
      "metadata": {
        "id": "WWvVr-GftBJ5"
      }
    },
    {
      "cell_type": "markdown",
      "source": [
        "Training and evaluating a dropout-regularized, stacked GRU model"
      ],
      "metadata": {
        "id": "OCDAThlitCin"
      }
    },
    {
      "cell_type": "code",
      "source": [
        "inputs = keras.Input(shape=(sequence_length, raw_data.shape[-1]))\n",
        "x = layers.GRU(32, recurrent_dropout=0.5, return_sequences=True)(inputs)\n",
        "x = layers.GRU(32, recurrent_dropout=0.5)(x)\n",
        "x = layers.Dropout(0.5)(x)\n",
        "outputs = layers.Dense(1)(x)\n",
        "model = keras.Model(inputs, outputs)\n",
        "\n",
        "callbacks = [\n",
        "    keras.callbacks.ModelCheckpoint(\"jena_stacked_gru_dropout.keras\",\n",
        "                                    save_best_only=True)\n",
        "]\n",
        "model.compile(optimizer=\"rmsprop\", loss=\"mse\", metrics=[\"mae\"])\n",
        "history = model.fit(train_dataset,\n",
        "                    epochs=10,\n",
        "                    validation_data=val_dataset,\n",
        "                    callbacks=callbacks)\n",
        "model = keras.models.load_model(\"jena_stacked_gru_dropout.keras\")\n",
        "print(f\"Test MAE: {model.evaluate(test_dataset)[1]:.2f}\")"
      ],
      "metadata": {
        "colab": {
          "base_uri": "https://localhost:8080/"
        },
        "id": "noiGN2kAs6-Y",
        "outputId": "dcada3ce-114f-4b4d-cba4-527cdf8756cf"
      },
      "execution_count": null,
      "outputs": [
        {
          "output_type": "stream",
          "name": "stdout",
          "text": [
            "Epoch 1/10\n",
            "819/819 [==============================] - 425s 510ms/step - loss: 25.1644 - mae: 3.7102 - val_loss: 9.9376 - val_mae: 2.4463\n",
            "Epoch 2/10\n",
            "819/819 [==============================] - 422s 515ms/step - loss: 14.0955 - mae: 2.9076 - val_loss: 9.0988 - val_mae: 2.3388\n",
            "Epoch 3/10\n",
            "819/819 [==============================] - 431s 526ms/step - loss: 13.3111 - mae: 2.8278 - val_loss: 8.8730 - val_mae: 2.3168\n",
            "Epoch 4/10\n",
            "819/819 [==============================] - 385s 469ms/step - loss: 12.8035 - mae: 2.7705 - val_loss: 9.1594 - val_mae: 2.3551\n",
            "Epoch 5/10\n",
            "819/819 [==============================] - 423s 516ms/step - loss: 12.4248 - mae: 2.7316 - val_loss: 8.7608 - val_mae: 2.3002\n",
            "Epoch 6/10\n",
            "819/819 [==============================] - 421s 514ms/step - loss: 12.0158 - mae: 2.6886 - val_loss: 8.8518 - val_mae: 2.3246\n",
            "Epoch 7/10\n",
            "819/819 [==============================] - 384s 469ms/step - loss: 11.5910 - mae: 2.6419 - val_loss: 8.5205 - val_mae: 2.2728\n",
            "Epoch 8/10\n",
            "819/819 [==============================] - 420s 513ms/step - loss: 11.1900 - mae: 2.5997 - val_loss: 9.1280 - val_mae: 2.3602\n",
            "Epoch 9/10\n",
            "819/819 [==============================] - 422s 515ms/step - loss: 10.8801 - mae: 2.5628 - val_loss: 9.2810 - val_mae: 2.3790\n",
            "Epoch 10/10\n",
            "819/819 [==============================] - 424s 517ms/step - loss: 10.6008 - mae: 2.5285 - val_loss: 9.2378 - val_mae: 2.3649\n",
            "405/405 [==============================] - 48s 116ms/step - loss: 9.3074 - mae: 2.4025\n",
            "Test MAE: 2.40\n"
          ]
        }
      ]
    },
    {
      "cell_type": "markdown",
      "source": [
        "# Using bidirectional RNNs"
      ],
      "metadata": {
        "id": "Tmqw715XtJ4N"
      }
    },
    {
      "cell_type": "markdown",
      "source": [
        "Training and evaluating a bidirectional LSTM"
      ],
      "metadata": {
        "id": "FFIXHH0gtLmB"
      }
    },
    {
      "cell_type": "code",
      "source": [
        "inputs = keras.Input(shape=(sequence_length, raw_data.shape[-1]))\n",
        "x = layers.Bidirectional(layers.LSTM(16))(inputs)\n",
        "outputs = layers.Dense(1)(x)\n",
        "model = keras.Model(inputs, outputs)\n",
        "\n",
        "model.compile(optimizer=\"rmsprop\", loss=\"mse\", metrics=[\"mae\"])\n",
        "history = model.fit(train_dataset,\n",
        "                    epochs=10,\n",
        "                    validation_data=val_dataset)"
      ],
      "metadata": {
        "colab": {
          "base_uri": "https://localhost:8080/"
        },
        "id": "Vg7iY1JqtQUu",
        "outputId": "fcf5e056-f623-4044-9b37-7273798bca0e"
      },
      "execution_count": null,
      "outputs": [
        {
          "output_type": "stream",
          "name": "stdout",
          "text": [
            "Epoch 1/10\n",
            "819/819 [==============================] - 182s 217ms/step - loss: 25.7672 - mae: 3.6506 - val_loss: 10.4639 - val_mae: 2.5166\n",
            "Epoch 2/10\n",
            "819/819 [==============================] - 178s 217ms/step - loss: 9.5494 - mae: 2.4090 - val_loss: 9.5589 - val_mae: 2.3945\n",
            "Epoch 3/10\n",
            "819/819 [==============================] - 177s 216ms/step - loss: 8.5425 - mae: 2.2702 - val_loss: 10.0722 - val_mae: 2.4450\n",
            "Epoch 4/10\n",
            "819/819 [==============================] - 177s 216ms/step - loss: 7.8960 - mae: 2.1860 - val_loss: 10.2451 - val_mae: 2.4708\n",
            "Epoch 5/10\n",
            "819/819 [==============================] - 181s 220ms/step - loss: 7.4594 - mae: 2.1247 - val_loss: 10.7471 - val_mae: 2.5245\n",
            "Epoch 6/10\n",
            "819/819 [==============================] - 176s 215ms/step - loss: 7.2050 - mae: 2.0877 - val_loss: 10.7862 - val_mae: 2.5498\n",
            "Epoch 7/10\n",
            "819/819 [==============================] - 178s 217ms/step - loss: 6.8577 - mae: 2.0352 - val_loss: 11.5158 - val_mae: 2.6308\n",
            "Epoch 8/10\n",
            "819/819 [==============================] - 176s 215ms/step - loss: 6.6368 - mae: 2.0027 - val_loss: 11.6064 - val_mae: 2.6249\n",
            "Epoch 9/10\n",
            "819/819 [==============================] - 173s 210ms/step - loss: 6.4848 - mae: 1.9774 - val_loss: 11.6784 - val_mae: 2.6335\n",
            "Epoch 10/10\n",
            "819/819 [==============================] - 176s 214ms/step - loss: 6.3681 - mae: 1.9595 - val_loss: 12.3462 - val_mae: 2.7095\n"
          ]
        }
      ]
    },
    {
      "cell_type": "markdown",
      "source": [
        "Going even further"
      ],
      "metadata": {
        "id": "QyyE3msStSWA"
      }
    },
    {
      "cell_type": "markdown",
      "source": [
        "# Summary\n",
        "\n",
        "The above machine learning model is recurrent model with Long Short term memory. We have considered climate dataset. In this model we are assessing climate date by divinding into test and validation data with 10 epochs with batch size of 819, we are using Mean Absolute error function to see the loss in the performance\n",
        "\n",
        "1) The training loss started with 25.76 which has decrease to 3.65 which tells that model has performed well in training data as the loss has reduced significantly\n",
        "\n",
        "2) Based on the model performance the validation loss started from 10.46 which increased to 12.34 which shows that model performan is getting worse.\n",
        "\n",
        "3) The validation MAE shows that MAE started at 2.56 and increased 2.7 which is degrading on the unseen data\n",
        "\n",
        "Based on the above points we can assess that model ability to perform on training data increased model efficiency however when it comes to unseen data efficiency of the model has degraded which shows cleae sign of overfitting.\n",
        "\n",
        "Based on the above overfitting issue, we can use dropout technique inorder to address overfitting issue.\n",
        "\n",
        "We can tune hyperparameter like adjusting batch size, learning rate and LSTM parameter.\n",
        "\n",
        "Based on the above recommendation the model to perform on training and unseen data accurately and can address overfitting issue."
      ],
      "metadata": {
        "id": "xxAIdw2itVZA"
      }
    }
  ]
}